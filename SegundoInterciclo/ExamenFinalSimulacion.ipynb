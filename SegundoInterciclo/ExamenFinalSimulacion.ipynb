{
 "cells": [
  {
   "cell_type": "markdown",
   "metadata": {},
   "source": [
    "## Nombre: Xavier Jarro\n",
    "## Materia:Simulacion\n",
    "\n",
    "\n",
    "\n",
    "#### Objetivo:\n",
    "\n",
    "•\tConsolidar los conocimientos adquiridos en clase para desarrollar simulaciones automática de procesos RPA.\n",
    "\n",
    "#### Enunciado:\n",
    "\n",
    "•\tEn base a ello, diseñe y desarrolle un modelo y/o script que permita realizar marketing digital automatizado del proceso de campaña política para un partido:\n",
    "\n",
    "▪\tGenerar un documento de Excel Online o Google Drive Calc en donde se tenga un listado de las persona para enviar la notificación por email el mismo que constara de: Nombre, Apellido, Email, Estado (Activo/Desactivo).\n",
    "\n",
    "▪\tSe debe generar un flyer (canvas.com) o imagen (PaintOnline), etc. que permitan identificar la fecha de publicación, hora, candidato, partido y cualquier dato de interés adicional.\n",
    "\n",
    "▪\tAdemas, deben de publicar dentro de cualquier red social(facebook, instagram, twitter, etc.) el flyer o imagen para ello pueden utilizar sus cuentas personales o crear una cuenta para esta tarea.\n",
    "\n",
    "▪\tDespués, enviar por email el flyer o imagen generada (los correos se encuentran en el primer archivo).\n",
    "\n",
    "▪\tFinalmente, generar un informe de las personas que visitaron la red social, comentaron o realizaron algún tipo de acción o evento y guardarlo en el GIT o en un documento en Google Drive.\n",
    "\n"
   ]
  },
  {
   "cell_type": "markdown",
   "metadata": {},
   "source": [
    "### Importacion de librerias."
   ]
  },
  {
   "cell_type": "code",
   "execution_count": 45,
   "metadata": {},
   "outputs": [],
   "source": [
    "import pandas as pd\n",
    "import smtplib\n",
    "import email.message\n",
    "from datetime import date\n",
    "from datetime import datetime\n",
    "from selenium import webdriver\n",
    "from selenium.webdriver.common.keys import Keys\n",
    "from selenium.common.exceptions import TimeoutException\n",
    "from time import sleep\n",
    "from selenium.webdriver.support.ui import WebDriverWait\n",
    "from selenium.webdriver.support.ui import Select\n",
    "from selenium.webdriver.common.by import By\n",
    "from selenium.webdriver.support import expected_conditions\n",
    "from selenium.common.exceptions import NoSuchElementException\n",
    "import time\n",
    "import os\n",
    "import pyautogui\n",
    "import cv2"
   ]
  },
  {
   "cell_type": "markdown",
   "metadata": {},
   "source": [
    "### Metodo para enviar correos con archivo de drive"
   ]
  },
  {
   "cell_type": "code",
   "execution_count": 46,
   "metadata": {},
   "outputs": [],
   "source": [
    "def correo():\n",
    "    sheet_url = 'https://docs.google.com/spreadsheets/d/1AfFbYSACM89S77jGx5sjjcDyDOB-zCvT_i8op3hcuyo/edit#gid=0'\n",
    "    csv_export_url = sheet_url.replace('/edit#gid=', '/export?format=csv&gid=')\n",
    "    today = date.today()\n",
    "    df=pd.read_csv(csv_export_url)\n",
    "    dest=[i[0]+\" \"+i[1]+\" <\"+i[2]+\">\" for i in df.values]\n",
    "    server = smtplib.SMTP('smtp.gmail.com:587') \n",
    "    email_content = \"\"\"\n",
    "\n",
    "    <html>\n",
    "\n",
    "    <head>\n",
    "        <title>Elecciones 2021</title>\n",
    "    </head>\n",
    "\n",
    "    <body>\n",
    "\n",
    "        <table id=\"main\" width=\"600\" align=\"center\" cellpadding=\"0\" cellspacing=\"15\" bgcolor=\"ffffff\">\n",
    "            <tr>\n",
    "                <td>\n",
    "                    <table id=\"header\" cellpadding=\"10\" cellspacing=\"0\" align=\"center\" bgcolor=\"8fb3e9\">\n",
    "                        <tr>\n",
    "                            <td width=\"570\" align=\"center\" bgcolor=\"#0a14d8\">\n",
    "                                <h1>\"\"\"+str(today)+\"\"\"</h1>\n",
    "\n",
    "                            </td>\n",
    "                        </tr>\n",
    "                        <tr>\n",
    "                            <td width=\"570\" align=\"center\" bgcolor=\"#0a14d8\">\n",
    "                                <h1>Elecciones</h1>\n",
    "                            </td>\n",
    "                        </tr>\n",
    "                    </table>\n",
    "                </td>\n",
    "            </tr>\n",
    "\n",
    "            <tr>\n",
    "                <td>\n",
    "                    <table id=\"content-3\" cellpadding=\"0\" cellspacing=\"0\" align=\"center\">\n",
    "                        <tr>\n",
    "                            <td valign=\"top\" bgcolor=\"d0d0d0\" style=\"padding:5px;\">\n",
    "                                <img src=\"https://drive.google.com/uc?id=1KowVUQXrj0-ygq-rWTu2-KeKO7f-eL_c\" width=\"707\" height=\"1000\" />\n",
    "                            </td>\n",
    "                        </tr>\n",
    "                    </table>\n",
    "                </td>\n",
    "            </tr>\n",
    "        </table>\n",
    "        </td>\n",
    "        </tr>\n",
    "        </table><!-- wrapper -->\n",
    "    </body>\n",
    "    </html>\n",
    "\n",
    "    \"\"\"\n",
    "\n",
    "    msg = email.message.Message()\n",
    "    msg['Subject'] = 'Campaña Electoral - Lista 18'\n",
    "    msg['From'] = 'Star Bank <starbankoficial@gmail.com>'\n",
    "    password = \"Covid1991X\"\n",
    "    msg.add_header('Content-Type', 'text/html')\n",
    "    msg.set_payload(email_content)\n",
    "    s = smtplib.SMTP('smtp.gmail.com:587')\n",
    "    s.starttls()\n",
    "    s.login('starbankoficial@gmail.com', password)\n",
    "    s.sendmail(msg['From'], dest, msg.as_string())"
   ]
  },
  {
   "cell_type": "markdown",
   "metadata": {},
   "source": [
    "### Metodo para crear imagen"
   ]
  },
  {
   "cell_type": "code",
   "execution_count": 47,
   "metadata": {},
   "outputs": [],
   "source": [
    "def crear_imagen():\n",
    "    imagen = cv2.imread(r\"C:\\Users\\xa_cx\\Downloads\\yaku.jpg\")\n",
    "    imagenFlayer = imagen.copy()\n",
    "    today = date.today()\n",
    "    now = datetime.now()\n",
    "    hora = str(today)+' '+str(now.hour)+\":\"+str(now.minute)\n",
    "    cv2.putText(imagenFlayer,hora,(500,750),cv2.FONT_HERSHEY_COMPLEX,1.0,(255,255,255),2)\n",
    "    cv2.imwrite(r\"C:\\Users\\xa_cx\\Downloads\\yakuPost.jpg\",imagenFlayer)\n",
    "    cv2.waitKey(0)"
   ]
  },
  {
   "cell_type": "markdown",
   "metadata": {},
   "source": [
    "### Metodo para postear en facebook"
   ]
  },
  {
   "cell_type": "code",
   "execution_count": 48,
   "metadata": {},
   "outputs": [],
   "source": [
    "def post():    \n",
    "    usr = \"xavierjarro@gmail.com\"\n",
    "    pwd = \"Covid1991X\"\n",
    "    PATH = 'msedgedriver.exe'\n",
    "    browser = webdriver.Edge(executable_path=PATH)\n",
    "    browser.get(\"http://www.facebook.com\")\n",
    "    sleep(2)    \n",
    "    text_urr = browser.find_element_by_id(\"email\")\n",
    "    text_urr.send_keys(usr)   \n",
    "    text_pwd = browser.find_element_by_id(\"pass\")\n",
    "    text_pwd.send_keys(pwd)  \n",
    "    text_pwd.send_keys(Keys.RETURN)\n",
    "    sleep(20)    \n",
    "    loguin = browser.find_element_by_xpath(\"/html/body/div[1]/div/div[1]/div/div[3]/div/div/div[1]/div[1]/div/div[2]/div/div/div[3]/div/div[2]/div/div/div/div[2]/div[2]/div[1]/span[2]/span\").click()\n",
    "    sleep(5)\n",
    "    crear_imagen()\n",
    "    pyautogui.write(r\"C:\\Users\\xa_cx\\Downloads\\yakuPost.jpg\")\n",
    "    pyautogui.press(\"enter\")    \n",
    "    sleep(5)\n",
    "    loguin = browser.find_element_by_xpath(\"/html/body/div[1]/div/div[1]/div/div[4]/div/div/div[1]/div/div[2]/div/div/div/form/div/div[1]/div/div/div[3]/div[2]/div\").click()\n",
    "\n",
    "\n",
    "main()"
   ]
  },
  {
   "cell_type": "markdown",
   "metadata": {},
   "source": [
    "### Ejecucion de programa."
   ]
  },
  {
   "cell_type": "code",
   "execution_count": 38,
   "metadata": {},
   "outputs": [],
   "source": [
    "if __name__ == '__main__':\n",
    "    correo()\n",
    "    post()"
   ]
  },
  {
   "cell_type": "markdown",
   "metadata": {},
   "source": [
    "#### Referencias:\n",
    "\n",
    "▪ https://www.ncbi.nlm.nih.gov/pmc/articles/PMC6291769/\n",
    "\n",
    "▪ https://www.mdirector.com/marketing-automation/estrategias-de-marketing-automation-para-fidelizar.html\n",
    "\n",
    "▪ https://blog.inconcertcc.com/automatiza-el-marketing-digital-en-tus-redes-sociales/\n"
   ]
  }
 ],
 "metadata": {
  "kernelspec": {
   "display_name": "Python 3",
   "language": "python",
   "name": "python3"
  },
  "language_info": {
   "codemirror_mode": {
    "name": "ipython",
    "version": 3
   },
   "file_extension": ".py",
   "mimetype": "text/x-python",
   "name": "python",
   "nbconvert_exporter": "python",
   "pygments_lexer": "ipython3",
   "version": "3.7.4"
  }
 },
 "nbformat": 4,
 "nbformat_minor": 2
}
