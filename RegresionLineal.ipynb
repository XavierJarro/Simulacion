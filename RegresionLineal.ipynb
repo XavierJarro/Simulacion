{
 "cells": [
  {
   "cell_type": "markdown",
   "metadata": {},
   "source": [
    "### Generamos los numeros aleatorios"
   ]
  },
  {
   "cell_type": "code",
   "execution_count": 1,
   "metadata": {},
   "outputs": [],
   "source": [
    "import numpy as np\n",
    "import random\n",
    "import matplotlib.pyplot as plt\n",
    "from sklearn.linear_model import LinearRegression\n",
    "\n",
    "def f(x):    \n",
    "    y = x*random.random()+random.randrange(10)\n",
    "    return y\n",
    "\n",
    "x = np.arange(0, 20, 1)\n",
    "y = f(x)\n",
    "\n",
    "plt.title('Regresion Lineal')\n",
    "plt.scatter(x,y)\n",
    "plt.grid(True)"
   ]
  },
  {
   "cell_type": "markdown",
   "metadata": {},
   "source": [
    "### Utilizamos la regresion lineal con los datos de (x,y) y obtenemos los valores de w y b de la funcion y=wx+b"
   ]
  },
  {
   "cell_type": "code",
   "execution_count": 5,
   "metadata": {},
   "outputs": [
    {
     "name": "stdout",
     "output_type": "stream",
     "text": [
      "w = [0.81176206], b = 3.9999999999999973\n"
     ]
    }
   ],
   "source": [
    "regresion_lineal = LinearRegression()\n",
    "regresion_lineal.fit(x.reshape(-1,1), y)\n",
    "print('w = ' + str(regresion_lineal.coef_) + ', b = ' + str(regresion_lineal.intercept_))"
   ]
  },
  {
   "cell_type": "markdown",
   "metadata": {},
   "source": [
    "### Graficamos nuevamente con la recta "
   ]
  },
  {
   "cell_type": "code",
   "execution_count": 9,
   "metadata": {},
   "outputs": [
    {
     "data": {
      "image/png": "[encoded data removed]",
      "text/plain": [
       "<Figure size 432x288 with 1 Axes>"
      ]
     },
     "metadata": {
      "needs_background": "light"
     },
     "output_type": "display_data"
    }
   ],
   "source": [
    "fu=lambda x: regresion_lineal.coef_*x+regresion_lineal.intercept_\n",
    "linea=np.arange(0,20,1)\n",
    "plt.title('Regresion Lineal')\n",
    "plt.scatter(x,y)\n",
    "plt.plot(linea,fu(linea))\n",
    "plt.grid(True)\n",
    "plt.show()"
   ]
  },
  {
   "cell_type": "markdown",
   "metadata": {},
   "source": [
    "### Hacemos la preccion"
   ]
  },
  {
   "cell_type": "code",
   "execution_count": 10,
   "metadata": {},
   "outputs": [
    {
     "name": "stdout",
     "output_type": "stream",
     "text": [
      "Ingrese el valor para X\n",
      "9\n",
      "La prediccion para [9] es =[11.3058585]\n"
     ]
    }
   ],
   "source": [
    "print(\"Ingrese el valor para X\")\n",
    "entrada = int(input())\n",
    "nuevo_x = np.array([entrada])\n",
    "prediccion = regresion_lineal.predict(nuevo_x.reshape(-1,1))\n",
    "print('La prediccion para '+str(nuevo_x)+' es ='+str(prediccion))"
   ]
  },
  {
   "cell_type": "code",
   "execution_count": null,
   "metadata": {},
   "outputs": [],
   "source": []
  }
 ],
 "metadata": {
  "kernelspec": {
   "display_name": "Python 3",
   "language": "python",
   "name": "python3"
  },
  "language_info": {
   "codemirror_mode": {
    "name": "ipython",
    "version": 3
   },
   "file_extension": ".py",
   "mimetype": "text/x-python",
   "name": "python",
   "nbconvert_exporter": "python",
   "pygments_lexer": "ipython3",
   "version": "3.7.4"
  }
 },
 "nbformat": 4,
 "nbformat_minor": 2
}
