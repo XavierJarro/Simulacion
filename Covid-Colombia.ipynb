{
 "cells": [
  {
   "cell_type": "markdown",
   "metadata": {},
   "source": [
    "### Investigar el proceso de atención de un paciente diagnosticado con COVID-19, además de tiempos de atención, recursos necesarios y tipos de pacientes. \n",
    "\n",
    "#### Tratamineto.\n",
    "No hay vacuna en el momento, ni un medicamento especíﬁco para esta enfermedad.\n",
    "\n",
    "#### Recursos necesarios.\n",
    "\n",
    "• El equipo de protección debe ser desechable\n",
    "\n",
    "• Identificación del nombre del personal en las viseras o lentes\n",
    "\n",
    "• Viseras o lentes\n",
    "\n",
    "• Lavarse las manos\n",
    "\n",
    "• Guantes\n",
    "\n",
    "• Protector del pelo\n",
    "\n",
    "• Botas desechables\n",
    "\n",
    "#### Tipos de pacientes.\n",
    "\n",
    "• Asintomáticos\n",
    "\n",
    "• Sin alteración pulmonar\n",
    "\n",
    "• Infiltrados pulmonares\n"
   ]
  },
  {
   "cell_type": "markdown",
   "metadata": {},
   "source": [
    "### Investigar en cada una de las provincias asignadas el número de hospitales, camas, respiradores y personal médico, limpieza y enfermería. \n",
    "\n",
    "#### Numero de hospitales.\n",
    "Colombia cuenta con un total de 320 hopitales.\n",
    "\n",
    "#### Numero de camas.\n",
    "Cuenta con 83.300 camas.\n",
    "\n",
    "#### Numero de respiradores.\n",
    "Cuenta con 2.817 respiradores.\n",
    "\n",
    "#### Numero de medicos.\n",
    "Cuenta con 73500 medicos\n",
    "\n",
    "### Numero de personas de limpieza.\n",
    "Cuenta con 10.400 personas de limpieza\n",
    "\n",
    "### Numero de enfermeras.\n",
    "Cuenta con 63.700 enfermeros.\n",
    "\n",
    "### Costo de atencion.\n",
    "El promedio de costo por día de hospitalización tuvo una media de 819606 pesos colombianos, unos 234.03 dolares americanos."
   ]
  },
  {
   "cell_type": "markdown",
   "metadata": {},
   "source": [
    "Fuentes:\n",
    "\n",
    "- https://www.minsalud.gov.co/Paginas/Colombia-adquirio-2817-respiradores-y-avanza-en-el-proceso-de-expansion-hospitalaria.aspx\n",
    "\n",
    "- https://www.ccb.org.co/Clusters/Cluster-de-Cosmeticos/Noticias/2020/Junio-2020/El-sector-aseo-protagonista-para-el-bienestar-durante-la-pandemia\n",
    "\n",
    "- https://www.eltiempo.com/colombia/otras-ciudades/colombia-solo-cuenta-con-1-7-camas-hospitalarias-por-cada-mil-habitantes-249374\n",
    "    "
   ]
  },
  {
   "cell_type": "code",
   "execution_count": null,
   "metadata": {},
   "outputs": [],
   "source": []
  }
 ],
 "metadata": {
  "kernelspec": {
   "display_name": "Python 3",
   "language": "python",
   "name": "python3"
  },
  "language_info": {
   "codemirror_mode": {
    "name": "ipython",
    "version": 3
   },
   "file_extension": ".py",
   "mimetype": "text/x-python",
   "name": "python",
   "nbconvert_exporter": "python",
   "pygments_lexer": "ipython3",
   "version": "3.7.4"
  }
 },
 "nbformat": 4,
 "nbformat_minor": 2
}
