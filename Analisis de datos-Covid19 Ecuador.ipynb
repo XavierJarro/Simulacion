{
 "cells": [
  {
   "cell_type": "markdown",
   "metadata": {},
   "source": [
    "# Analisis"
   ]
  },
  {
   "cell_type": "markdown",
   "metadata": {},
   "source": [
    "### Importacion de librerias a usar."
   ]
  },
  {
   "cell_type": "code",
   "execution_count": 1,
   "metadata": {},
   "outputs": [],
   "source": [
    "import pandas as pd\n",
    "import numpy as np\n",
    "from datetime import datetime,timedelta\n",
    "from sklearn.metrics import mean_squared_error\n",
    "from scipy.optimize import curve_fit\n",
    "from scipy.optimize import fsolve\n",
    "from sklearn import linear_model\n",
    "import matplotlib.pyplot as plt\n",
    "%matplotlib inline"
   ]
  },
  {
   "cell_type": "markdown",
   "metadata": {},
   "source": [
    "### Lectura del archivo csv actualizado a 02/11/2020"
   ]
  },
  {
   "cell_type": "code",
   "execution_count": 28,
   "metadata": {},
   "outputs": [
    {
     "data": {
      "text/html": [
       "<div>\n",
       "<style scoped>\n",
       "    .dataframe tbody tr th:only-of-type {\n",
       "        vertical-align: middle;\n",
       "    }\n",
       "\n",
       "    .dataframe tbody tr th {\n",
       "        vertical-align: top;\n",
       "    }\n",
       "\n",
       "    .dataframe thead th {\n",
       "        text-align: right;\n",
       "    }\n",
       "</style>\n",
       "<table border=\"1\" class=\"dataframe\">\n",
       "  <thead>\n",
       "    <tr style=\"text-align: right;\">\n",
       "      <th></th>\n",
       "      <th>Date_reported</th>\n",
       "      <th>Country_code</th>\n",
       "      <th>Country</th>\n",
       "      <th>WHO_region</th>\n",
       "      <th>New_cases</th>\n",
       "      <th>Cumulative_cases</th>\n",
       "      <th>New_deaths</th>\n",
       "      <th>Cumulative_deaths</th>\n",
       "    </tr>\n",
       "  </thead>\n",
       "  <tbody>\n",
       "    <tr>\n",
       "      <td>0</td>\n",
       "      <td>2020-01-03</td>\n",
       "      <td>AF</td>\n",
       "      <td>Afghanistan</td>\n",
       "      <td>EMRO</td>\n",
       "      <td>0</td>\n",
       "      <td>0</td>\n",
       "      <td>0</td>\n",
       "      <td>0</td>\n",
       "    </tr>\n",
       "    <tr>\n",
       "      <td>1</td>\n",
       "      <td>2020-01-04</td>\n",
       "      <td>AF</td>\n",
       "      <td>Afghanistan</td>\n",
       "      <td>EMRO</td>\n",
       "      <td>0</td>\n",
       "      <td>0</td>\n",
       "      <td>0</td>\n",
       "      <td>0</td>\n",
       "    </tr>\n",
       "    <tr>\n",
       "      <td>2</td>\n",
       "      <td>2020-01-05</td>\n",
       "      <td>AF</td>\n",
       "      <td>Afghanistan</td>\n",
       "      <td>EMRO</td>\n",
       "      <td>0</td>\n",
       "      <td>0</td>\n",
       "      <td>0</td>\n",
       "      <td>0</td>\n",
       "    </tr>\n",
       "    <tr>\n",
       "      <td>3</td>\n",
       "      <td>2020-01-06</td>\n",
       "      <td>AF</td>\n",
       "      <td>Afghanistan</td>\n",
       "      <td>EMRO</td>\n",
       "      <td>0</td>\n",
       "      <td>0</td>\n",
       "      <td>0</td>\n",
       "      <td>0</td>\n",
       "    </tr>\n",
       "    <tr>\n",
       "      <td>4</td>\n",
       "      <td>2020-01-07</td>\n",
       "      <td>AF</td>\n",
       "      <td>Afghanistan</td>\n",
       "      <td>EMRO</td>\n",
       "      <td>0</td>\n",
       "      <td>0</td>\n",
       "      <td>0</td>\n",
       "      <td>0</td>\n",
       "    </tr>\n",
       "    <tr>\n",
       "      <td>...</td>\n",
       "      <td>...</td>\n",
       "      <td>...</td>\n",
       "      <td>...</td>\n",
       "      <td>...</td>\n",
       "      <td>...</td>\n",
       "      <td>...</td>\n",
       "      <td>...</td>\n",
       "      <td>...</td>\n",
       "    </tr>\n",
       "    <tr>\n",
       "      <td>71670</td>\n",
       "      <td>2020-10-29</td>\n",
       "      <td>ZW</td>\n",
       "      <td>Zimbabwe</td>\n",
       "      <td>AFRO</td>\n",
       "      <td>5</td>\n",
       "      <td>8320</td>\n",
       "      <td>0</td>\n",
       "      <td>242</td>\n",
       "    </tr>\n",
       "    <tr>\n",
       "      <td>71671</td>\n",
       "      <td>2020-10-30</td>\n",
       "      <td>ZW</td>\n",
       "      <td>Zimbabwe</td>\n",
       "      <td>AFRO</td>\n",
       "      <td>1</td>\n",
       "      <td>8321</td>\n",
       "      <td>0</td>\n",
       "      <td>242</td>\n",
       "    </tr>\n",
       "    <tr>\n",
       "      <td>71672</td>\n",
       "      <td>2020-10-31</td>\n",
       "      <td>ZW</td>\n",
       "      <td>Zimbabwe</td>\n",
       "      <td>AFRO</td>\n",
       "      <td>41</td>\n",
       "      <td>8362</td>\n",
       "      <td>0</td>\n",
       "      <td>242</td>\n",
       "    </tr>\n",
       "    <tr>\n",
       "      <td>71673</td>\n",
       "      <td>2020-11-01</td>\n",
       "      <td>ZW</td>\n",
       "      <td>Zimbabwe</td>\n",
       "      <td>AFRO</td>\n",
       "      <td>5</td>\n",
       "      <td>8367</td>\n",
       "      <td>1</td>\n",
       "      <td>243</td>\n",
       "    </tr>\n",
       "    <tr>\n",
       "      <td>71674</td>\n",
       "      <td>2020-11-02</td>\n",
       "      <td>ZW</td>\n",
       "      <td>Zimbabwe</td>\n",
       "      <td>AFRO</td>\n",
       "      <td>7</td>\n",
       "      <td>8374</td>\n",
       "      <td>0</td>\n",
       "      <td>243</td>\n",
       "    </tr>\n",
       "  </tbody>\n",
       "</table>\n",
       "<p>71675 rows × 8 columns</p>\n",
       "</div>"
      ],
      "text/plain": [
       "      Date_reported  Country_code      Country  WHO_region   New_cases  \\\n",
       "0        2020-01-03            AF  Afghanistan        EMRO           0   \n",
       "1        2020-01-04            AF  Afghanistan        EMRO           0   \n",
       "2        2020-01-05            AF  Afghanistan        EMRO           0   \n",
       "3        2020-01-06            AF  Afghanistan        EMRO           0   \n",
       "4        2020-01-07            AF  Afghanistan        EMRO           0   \n",
       "...             ...           ...          ...         ...         ...   \n",
       "71670    2020-10-29            ZW     Zimbabwe        AFRO           5   \n",
       "71671    2020-10-30            ZW     Zimbabwe        AFRO           1   \n",
       "71672    2020-10-31            ZW     Zimbabwe        AFRO          41   \n",
       "71673    2020-11-01            ZW     Zimbabwe        AFRO           5   \n",
       "71674    2020-11-02            ZW     Zimbabwe        AFRO           7   \n",
       "\n",
       "        Cumulative_cases   New_deaths   Cumulative_deaths  \n",
       "0                      0            0                   0  \n",
       "1                      0            0                   0  \n",
       "2                      0            0                   0  \n",
       "3                      0            0                   0  \n",
       "4                      0            0                   0  \n",
       "...                  ...          ...                 ...  \n",
       "71670               8320            0                 242  \n",
       "71671               8321            0                 242  \n",
       "71672               8362            0                 242  \n",
       "71673               8367            1                 243  \n",
       "71674               8374            0                 243  \n",
       "\n",
       "[71675 rows x 8 columns]"
      ]
     },
     "execution_count": 28,
     "metadata": {},
     "output_type": "execute_result"
    }
   ],
   "source": [
    "url = 'covid.csv'\n",
    "df = pd.read_csv(url)\n",
    "df"
   ]
  },
  {
   "cell_type": "markdown",
   "metadata": {},
   "source": [
    "### Filtrado y grafica de datos de personas infectadas de COVID-19 en Ecuador"
   ]
  },
  {
   "cell_type": "code",
   "execution_count": 33,
   "metadata": {},
   "outputs": [
    {
     "data": {
      "text/plain": [
       "<matplotlib.axes._subplots.AxesSubplot at 0x2203a7fe348>"
      ]
     },
     "execution_count": 33,
     "metadata": {},
     "output_type": "execute_result"
    },
    {
     "data": {
      "image/png": "[encoded data removed]",
      "text/plain": [
       "<Figure size 432x288 with 1 Axes>"
      ]
     },
     "metadata": {
      "needs_background": "light"
     },
     "output_type": "display_data"
    }
   ],
   "source": [
    "url = 'covid.csv'\n",
    "df = pd.read_csv(url)\n",
    "\n",
    "df = df[df[' Country'].isin(['Ecuador'])]\n",
    "df = df.loc[:,['Date_reported',' Cumulative_cases']]\n",
    "FMT = '%Y-%m-%d'\n",
    "date = df['Date_reported']\n",
    "df['Date_reported'] = date.map(lambda x : (datetime.strptime(x, FMT) - datetime.strptime(\"2020-01-03\", FMT)).days)\n",
    "\n",
    "df.plot(x ='Date_reported', y=' Cumulative_cases')"
   ]
  },
  {
   "cell_type": "markdown",
   "metadata": {},
   "source": [
    "### Filtrado y grafica de datos de personas muertas por COVID-19 en Ecuador"
   ]
  },
  {
   "cell_type": "code",
   "execution_count": 34,
   "metadata": {},
   "outputs": [
    {
     "data": {
      "text/plain": [
       "<matplotlib.axes._subplots.AxesSubplot at 0x2203aff34c8>"
      ]
     },
     "execution_count": 34,
     "metadata": {},
     "output_type": "execute_result"
    },
    {
     "data": {
      "image/png": "[encoded data removed]",
      "text/plain": [
       "<Figure size 432x288 with 1 Axes>"
      ]
     },
     "metadata": {
      "needs_background": "light"
     },
     "output_type": "display_data"
    }
   ],
   "source": [
    "url = 'covid.csv'\n",
    "df = pd.read_csv(url)\n",
    "\n",
    "df = df[df[' Country'].isin(['Ecuador'])]\n",
    "df = df.loc[:,['Date_reported',' Cumulative_deaths']]\n",
    "FMT = '%Y-%m-%d'\n",
    "date = df['Date_reported']\n",
    "df['Date_reported'] = date.map(lambda x : (datetime.strptime(x, FMT) - datetime.strptime(\"2020-01-03\", FMT)).days)\n",
    "df\n",
    "df.plot(x ='Date_reported', y=' Cumulative_deaths')"
   ]
  },
  {
   "cell_type": "markdown",
   "metadata": {},
   "source": [
    "# Conclusion\n",
    "\n",
    "\n",
    "Con la actualizacion de los datos al dia 02/11/2020 se obtuvo las graficas de las personas infectadas y muertas con la enfermedad COVID-19 en Ecuador, con esto se pudo ver la actualidad que se lleva en el pais con referencia a la enfermedad."
   ]
  },
  {
   "cell_type": "markdown",
   "metadata": {},
   "source": [
    "# Criterio personal\n",
    "\n",
    "\n",
    "Este trabajo me ayudo a saber el estado actual del pais con referencia a la enfermedad del COVID-19 y puedo determinar las medidas de prevencion que se han tomado por parte de las autoridaddes en contra la enfermdad del COVID-19 no son tan efectivas ya que desde el dia uno hasta la fecha actual 02/11/2020 ha existido un gran indice de infectados."
   ]
  },
  {
   "cell_type": "code",
   "execution_count": null,
   "metadata": {},
   "outputs": [],
   "source": []
  }
 ],
 "metadata": {
  "kernelspec": {
   "display_name": "Python 3",
   "language": "python",
   "name": "python3"
  },
  "language_info": {
   "codemirror_mode": {
    "name": "ipython",
    "version": 3
   },
   "file_extension": ".py",
   "mimetype": "text/x-python",
   "name": "python",
   "nbconvert_exporter": "python",
   "pygments_lexer": "ipython3",
   "version": "3.7.4"
  }
 },
 "nbformat": 4,
 "nbformat_minor": 2
}
